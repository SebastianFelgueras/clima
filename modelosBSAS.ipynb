{
 "cells": [
  {
   "cell_type": "code",
   "execution_count": 1,
   "metadata": {},
   "outputs": [],
   "source": [
    "import pandas as pd\n"
   ]
  },
  {
   "attachments": {},
   "cell_type": "markdown",
   "metadata": {},
   "source": [
    "# Carga Datos"
   ]
  },
  {
   "cell_type": "code",
   "execution_count": 2,
   "metadata": {},
   "outputs": [
    {
     "data": {
      "text/html": [
       "<div>\n",
       "<style scoped>\n",
       "    .dataframe tbody tr th:only-of-type {\n",
       "        vertical-align: middle;\n",
       "    }\n",
       "\n",
       "    .dataframe tbody tr th {\n",
       "        vertical-align: top;\n",
       "    }\n",
       "\n",
       "    .dataframe thead th {\n",
       "        text-align: right;\n",
       "    }\n",
       "</style>\n",
       "<table border=\"1\" class=\"dataframe\">\n",
       "  <thead>\n",
       "    <tr style=\"text-align: right;\">\n",
       "      <th></th>\n",
       "      <th>fecha</th>\n",
       "      <th>hora</th>\n",
       "      <th>temperatura</th>\n",
       "      <th>humedad</th>\n",
       "      <th>presion</th>\n",
       "      <th>direccion_viento</th>\n",
       "      <th>velocidad_viento</th>\n",
       "      <th>estacion</th>\n",
       "    </tr>\n",
       "  </thead>\n",
       "  <tbody>\n",
       "    <tr>\n",
       "      <th>0</th>\n",
       "      <td>03122020</td>\n",
       "      <td>0</td>\n",
       "      <td>19.4</td>\n",
       "      <td>92.0</td>\n",
       "      <td>1006.7</td>\n",
       "      <td>90.0</td>\n",
       "      <td>24.0</td>\n",
       "      <td>AEROPARQUE AERO</td>\n",
       "    </tr>\n",
       "    <tr>\n",
       "      <th>1</th>\n",
       "      <td>03122020</td>\n",
       "      <td>1</td>\n",
       "      <td>19.7</td>\n",
       "      <td>88.0</td>\n",
       "      <td>1007.6</td>\n",
       "      <td>180.0</td>\n",
       "      <td>7.0</td>\n",
       "      <td>AEROPARQUE AERO</td>\n",
       "    </tr>\n",
       "  </tbody>\n",
       "</table>\n",
       "</div>"
      ],
      "text/plain": [
       "      fecha  hora  temperatura  humedad  presion  direccion_viento  \\\n",
       "0  03122020     0         19.4     92.0   1006.7              90.0   \n",
       "1  03122020     1         19.7     88.0   1007.6             180.0   \n",
       "\n",
       "   velocidad_viento         estacion  \n",
       "0              24.0  AEROPARQUE AERO  \n",
       "1               7.0  AEROPARQUE AERO  "
      ]
     },
     "execution_count": 2,
     "metadata": {},
     "output_type": "execute_result"
    }
   ],
   "source": [
    "tipos = {\"fecha\": str, \"hora\": int, \"temperatura\": float, \"humedad\": float, \"presion\": float, \"direccion_viento\": float, \"velocidad_viento\": float, \"estacion\": str}\n",
    "data = pd.read_csv(\"clima_bsas.csv\",dtype=tipos)\n",
    "del data[\"Unnamed: 0\"]\n",
    "data.head(2)"
   ]
  },
  {
   "cell_type": "code",
   "execution_count": 3,
   "metadata": {},
   "outputs": [
    {
     "name": "stdout",
     "output_type": "stream",
     "text": [
      "(87328, 8)\n"
     ]
    },
    {
     "data": {
      "text/plain": [
       "fecha                object\n",
       "hora                  int64\n",
       "temperatura         float64\n",
       "humedad             float64\n",
       "presion             float64\n",
       "direccion_viento    float64\n",
       "velocidad_viento    float64\n",
       "estacion             object\n",
       "dtype: object"
      ]
     },
     "execution_count": 3,
     "metadata": {},
     "output_type": "execute_result"
    }
   ],
   "source": [
    "print(data.shape)\n",
    "data.dtypes"
   ]
  },
  {
   "attachments": {},
   "cell_type": "markdown",
   "metadata": {},
   "source": [
    "# Preparación datos"
   ]
  },
  {
   "cell_type": "code",
   "execution_count": 4,
   "metadata": {},
   "outputs": [
    {
     "name": "stdout",
     "output_type": "stream",
     "text": [
      "(87328, 8)\n"
     ]
    },
    {
     "data": {
      "text/plain": [
       "(87299, 8)"
      ]
     },
     "execution_count": 4,
     "metadata": {},
     "output_type": "execute_result"
    }
   ],
   "source": [
    "print(data.shape)\n",
    "datana = data.dropna()\n",
    "datana.shape"
   ]
  },
  {
   "cell_type": "code",
   "execution_count": 22,
   "metadata": {},
   "outputs": [
    {
     "data": {
      "text/plain": [
       "fecha                object\n",
       "hora                  int64\n",
       "temperatura         float64\n",
       "humedad             float64\n",
       "presion             float64\n",
       "direccion_viento    float64\n",
       "velocidad_viento    float64\n",
       "dtype: object"
      ]
     },
     "execution_count": 22,
     "metadata": {},
     "output_type": "execute_result"
    }
   ],
   "source": [
    "aero = datana[datana[\"estacion\"] == \"AEROPARQUE AERO\"].copy()\n",
    "aero.shape\n",
    "del aero[\"estacion\"]\n",
    "aero.dtypes"
   ]
  },
  {
   "cell_type": "code",
   "execution_count": 23,
   "metadata": {},
   "outputs": [],
   "source": [
    "aero[\"fecha\"] = pd.to_datetime(aero[\"fecha\"],format=\"%d%m%Y\") #+  pd.to_timedelta(aero.hora, unit='h')\n",
    "# del aero[\"hora\"]\n",
    "aero.sort_values(by=[\"fecha\"],inplace=True)\n",
    "aero.reset_index(inplace=True)\n",
    "promedios_aero = aero.groupby(\"fecha\").mean().reset_index().sort_values(by=\"fecha\")\n",
    "del promedios_aero[\"index\"]\n"
   ]
  },
  {
   "cell_type": "code",
   "execution_count": 30,
   "metadata": {},
   "outputs": [],
   "source": [
    "aero_prom = aero.join(promedios_aero.set_index(\"fecha\"),on=\"fecha\",rsuffix=\"_prom\")\n",
    "del aero_prom[\"hora_prom\"]\n",
    "del aero_prom[\"index\"]\n",
    "aero_prom.sort_values(by=[\"fecha\",\"hora\"],inplace=True)"
   ]
  },
  {
   "cell_type": "code",
   "execution_count": null,
   "metadata": {},
   "outputs": [],
   "source": []
  }
 ],
 "metadata": {
  "kernelspec": {
   "display_name": "Python 3",
   "language": "python",
   "name": "python3"
  },
  "language_info": {
   "codemirror_mode": {
    "name": "ipython",
    "version": 3
   },
   "file_extension": ".py",
   "mimetype": "text/x-python",
   "name": "python",
   "nbconvert_exporter": "python",
   "pygments_lexer": "ipython3",
   "version": "3.10.6"
  },
  "orig_nbformat": 4,
  "vscode": {
   "interpreter": {
    "hash": "916dbcbb3f70747c44a77c7bcd40155683ae19c65e1c03b4aa3499c5328201f1"
   }
  }
 },
 "nbformat": 4,
 "nbformat_minor": 2
}
