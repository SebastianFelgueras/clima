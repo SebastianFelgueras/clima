{
 "cells": [
  {
   "cell_type": "code",
   "execution_count": 1,
   "metadata": {},
   "outputs": [],
   "source": [
    "import pandas as pd\n",
    "import matplotlib.pyplot as plt\n",
    "from modelo import ModeloSKL\n",
    "import numpy as np\n",
    "%matplotlib inline"
   ]
  },
  {
   "attachments": {},
   "cell_type": "markdown",
   "metadata": {},
   "source": [
    "# Carga Datos"
   ]
  },
  {
   "cell_type": "code",
   "execution_count": 2,
   "metadata": {},
   "outputs": [
    {
     "data": {
      "text/html": [
       "<div>\n",
       "<style scoped>\n",
       "    .dataframe tbody tr th:only-of-type {\n",
       "        vertical-align: middle;\n",
       "    }\n",
       "\n",
       "    .dataframe tbody tr th {\n",
       "        vertical-align: top;\n",
       "    }\n",
       "\n",
       "    .dataframe thead th {\n",
       "        text-align: right;\n",
       "    }\n",
       "</style>\n",
       "<table border=\"1\" class=\"dataframe\">\n",
       "  <thead>\n",
       "    <tr style=\"text-align: right;\">\n",
       "      <th></th>\n",
       "      <th>fecha</th>\n",
       "      <th>hora</th>\n",
       "      <th>temperatura</th>\n",
       "      <th>humedad</th>\n",
       "      <th>presion</th>\n",
       "      <th>direccion_viento</th>\n",
       "      <th>velocidad_viento</th>\n",
       "      <th>estacion</th>\n",
       "    </tr>\n",
       "  </thead>\n",
       "  <tbody>\n",
       "    <tr>\n",
       "      <th>0</th>\n",
       "      <td>01062021</td>\n",
       "      <td>0</td>\n",
       "      <td>16.7</td>\n",
       "      <td>53.0</td>\n",
       "      <td>1012.6</td>\n",
       "      <td>290.0</td>\n",
       "      <td>15.0</td>\n",
       "      <td>AEROPARQUE AERO</td>\n",
       "    </tr>\n",
       "    <tr>\n",
       "      <th>1</th>\n",
       "      <td>01062021</td>\n",
       "      <td>1</td>\n",
       "      <td>15.5</td>\n",
       "      <td>66.0</td>\n",
       "      <td>1012.1</td>\n",
       "      <td>320.0</td>\n",
       "      <td>9.0</td>\n",
       "      <td>AEROPARQUE AERO</td>\n",
       "    </tr>\n",
       "  </tbody>\n",
       "</table>\n",
       "</div>"
      ],
      "text/plain": [
       "      fecha  hora  temperatura  humedad  presion  direccion_viento  \\\n",
       "0  01062021     0         16.7     53.0   1012.6             290.0   \n",
       "1  01062021     1         15.5     66.0   1012.1             320.0   \n",
       "\n",
       "   velocidad_viento         estacion  \n",
       "0              15.0  AEROPARQUE AERO  \n",
       "1               9.0  AEROPARQUE AERO  "
      ]
     },
     "execution_count": 2,
     "metadata": {},
     "output_type": "execute_result"
    }
   ],
   "source": [
    "tipos = {\"fecha\": str, \"hora\": int, \"temperatura\": float, \"humedad\": float, \"presion\": float, \"direccion_viento\": float, \"velocidad_viento\": float, \"estacion\": str}\n",
    "data = pd.read_csv(\"clima_bsas.csv\",dtype=tipos)\n",
    "del data[\"Unnamed: 0\"]\n",
    "data.head(2)"
   ]
  },
  {
   "cell_type": "code",
   "execution_count": 3,
   "metadata": {},
   "outputs": [
    {
     "name": "stdout",
     "output_type": "stream",
     "text": [
      "(87280, 8)\n"
     ]
    },
    {
     "data": {
      "text/plain": [
       "fecha                object\n",
       "hora                  int64\n",
       "temperatura         float64\n",
       "humedad             float64\n",
       "presion             float64\n",
       "direccion_viento    float64\n",
       "velocidad_viento    float64\n",
       "estacion             object\n",
       "dtype: object"
      ]
     },
     "execution_count": 3,
     "metadata": {},
     "output_type": "execute_result"
    }
   ],
   "source": [
    "print(data.shape)\n",
    "data.dtypes"
   ]
  },
  {
   "attachments": {},
   "cell_type": "markdown",
   "metadata": {},
   "source": [
    "# Preparación datos"
   ]
  },
  {
   "cell_type": "code",
   "execution_count": 4,
   "metadata": {},
   "outputs": [
    {
     "name": "stdout",
     "output_type": "stream",
     "text": [
      "(87280, 8)\n"
     ]
    },
    {
     "data": {
      "text/plain": [
       "(87251, 8)"
      ]
     },
     "execution_count": 4,
     "metadata": {},
     "output_type": "execute_result"
    }
   ],
   "source": [
    "print(data.shape)\n",
    "datana = data.dropna()\n",
    "datana.shape"
   ]
  },
  {
   "cell_type": "code",
   "execution_count": 5,
   "metadata": {},
   "outputs": [
    {
     "data": {
      "text/plain": [
       "fecha                object\n",
       "hora                  int64\n",
       "temperatura         float64\n",
       "humedad             float64\n",
       "presion             float64\n",
       "direccion_viento    float64\n",
       "velocidad_viento    float64\n",
       "dtype: object"
      ]
     },
     "execution_count": 5,
     "metadata": {},
     "output_type": "execute_result"
    }
   ],
   "source": [
    "aero = datana[datana[\"estacion\"] == \"AEROPARQUE AERO\"].copy()\n",
    "aero.shape\n",
    "del aero[\"estacion\"]\n",
    "aero.dtypes"
   ]
  },
  {
   "cell_type": "code",
   "execution_count": 6,
   "metadata": {},
   "outputs": [
    {
     "data": {
      "text/plain": [
       "index                        int64\n",
       "fecha               datetime64[ns]\n",
       "hora                         int64\n",
       "temperatura                float64\n",
       "humedad                    float64\n",
       "presion                    float64\n",
       "direccion_viento           float64\n",
       "velocidad_viento           float64\n",
       "dia                          int64\n",
       "mes                          int64\n",
       "año                          int64\n",
       "dtype: object"
      ]
     },
     "execution_count": 6,
     "metadata": {},
     "output_type": "execute_result"
    }
   ],
   "source": [
    "aero[\"fecha\"] = pd.to_datetime(aero[\"fecha\"],format=\"%d%m%Y\") #+  pd.to_timedelta(aero.hora, unit='h')\n",
    "aero[\"dia\"] = aero[\"fecha\"].dt.day\n",
    "aero[\"mes\"] = aero[\"fecha\"].dt.month\n",
    "aero[\"año\"] = aero[\"fecha\"].dt.year\n",
    "aero.sort_values(by=[\"fecha\"],inplace=True)\n",
    "aero.reset_index(inplace=True)\n",
    "promedios_aero = aero.groupby(\"fecha\").mean().reset_index().sort_values(by=\"fecha\")\n",
    "del promedios_aero[\"index\"]\n",
    "aero.dtypes"
   ]
  },
  {
   "cell_type": "code",
   "execution_count": 7,
   "metadata": {},
   "outputs": [],
   "source": [
    "aero_prom = aero.join(promedios_aero.set_index(\"fecha\"),on=\"fecha\",rsuffix=\"_prom\")\n",
    "del aero_prom[\"hora_prom\"]\n",
    "del aero_prom[\"index\"]\n",
    "aero_prom.sort_values(by=[\"fecha\",\"hora\"],inplace=True)\n"
   ]
  },
  {
   "cell_type": "code",
   "execution_count": 8,
   "metadata": {},
   "outputs": [],
   "source": [
    "promedios_aero[\"fecha\"] = promedios_aero[\"fecha\"] + pd.Timedelta(-1,unit=\"day\")\n",
    "predictor = None\n",
    "predictor = aero.join(promedios_aero.set_index(\"fecha\"),on=\"fecha\",rsuffix=\"_prom_dia_sig\")\n",
    "del predictor[\"index\"]\n",
    "del predictor[\"hora_prom_dia_sig\"]\n",
    "del predictor[\"mes_prom_dia_sig\"]\n",
    "del predictor[\"dia_prom_dia_sig\"]\n",
    "del predictor[\"año_prom_dia_sig\"]\n",
    "promedios_aero[\"fecha\"] = promedios_aero[\"fecha\"] + pd.Timedelta(1,unit=\"day\")\n",
    "\n"
   ]
  },
  {
   "cell_type": "code",
   "execution_count": 9,
   "metadata": {},
   "outputs": [
    {
     "data": {
      "text/plain": [
       "Index(['fecha', 'hora', 'temperatura', 'humedad', 'presion',\n",
       "       'direccion_viento', 'velocidad_viento', 'dia', 'mes', 'año',\n",
       "       'temperatura_prom_dia_sig', 'humedad_prom_dia_sig',\n",
       "       'presion_prom_dia_sig', 'direccion_viento_prom_dia_sig',\n",
       "       'velocidad_viento_prom_dia_sig', 'temperatura_max_dia_sig',\n",
       "       'humedad_max_dia_sig', 'presion_max_dia_sig',\n",
       "       'direccion_viento_max_dia_sig', 'velocidad_viento_max_dia_sig',\n",
       "       'index_min_dia_sig', 'temperatura_min_dia_sig', 'humedad_min_dia_sig',\n",
       "       'presion_min_dia_sig', 'direccion_viento_min_dia_sig',\n",
       "       'velocidad_viento_min_dia_sig'],\n",
       "      dtype='object')"
      ]
     },
     "execution_count": 9,
     "metadata": {},
     "output_type": "execute_result"
    }
   ],
   "source": [
    "max_aero = aero.groupby(\"fecha\").max().reset_index().sort_values(by=\"fecha\")\n",
    "min_aero = aero.groupby(\"fecha\").min().reset_index().sort_values(by=\"fecha\")\n",
    "max_aero[\"fecha\"] = max_aero[\"fecha\"] + pd.Timedelta(-1,unit=\"day\")\n",
    "min_aero[\"fecha\"] = min_aero[\"fecha\"] + pd.Timedelta(-1,unit=\"day\")\n",
    "\n",
    "predictor = predictor.join(max_aero.set_index(\"fecha\"),on=\"fecha\",rsuffix=\"_max_dia_sig\")\n",
    "predictor = predictor.join(min_aero.set_index(\"fecha\"),on=\"fecha\",rsuffix=\"_min_dia_sig\")\n",
    "del predictor[\"index\"]\n",
    "del predictor[\"hora_max_dia_sig\"]\n",
    "del predictor[\"mes_max_dia_sig\"]\n",
    "del predictor[\"dia_max_dia_sig\"]\n",
    "del predictor[\"año_max_dia_sig\"]\n",
    "del predictor[\"hora_min_dia_sig\"]\n",
    "del predictor[\"mes_min_dia_sig\"]\n",
    "del predictor[\"dia_min_dia_sig\"]\n",
    "del predictor[\"año_min_dia_sig\"]\n",
    "predictor.dropna(inplace=True)\n",
    "predictor.sort_values(by=\"fecha\",inplace=True)\n",
    "predictor.columns"
   ]
  },
  {
   "attachments": {},
   "cell_type": "markdown",
   "metadata": {},
   "source": [
    "# Modelos predecir temperatura"
   ]
  },
  {
   "cell_type": "code",
   "execution_count": 10,
   "metadata": {},
   "outputs": [
    {
     "data": {
      "text/plain": [
       "Index(['fecha', 'hora', 'temperatura', 'humedad', 'presion',\n",
       "       'direccion_viento', 'velocidad_viento', 'dia', 'mes', 'año',\n",
       "       'temperatura_prom_dia_sig', 'humedad_prom_dia_sig',\n",
       "       'presion_prom_dia_sig', 'direccion_viento_prom_dia_sig',\n",
       "       'velocidad_viento_prom_dia_sig', 'temperatura_max_dia_sig',\n",
       "       'humedad_max_dia_sig', 'presion_max_dia_sig',\n",
       "       'direccion_viento_max_dia_sig', 'velocidad_viento_max_dia_sig',\n",
       "       'index_min_dia_sig', 'temperatura_min_dia_sig', 'humedad_min_dia_sig',\n",
       "       'presion_min_dia_sig', 'direccion_viento_min_dia_sig',\n",
       "       'velocidad_viento_min_dia_sig'],\n",
       "      dtype='object')"
      ]
     },
     "execution_count": 10,
     "metadata": {},
     "output_type": "execute_result"
    }
   ],
   "source": [
    "predictor.columns"
   ]
  },
  {
   "cell_type": "code",
   "execution_count": 11,
   "metadata": {},
   "outputs": [],
   "source": [
    "modelo = ModeloSKL()\n",
    "modelo.splitear([\"temperatura_max_dia_sig\",\"temperatura_min_dia_sig\"],predictor)\n"
   ]
  },
  {
   "cell_type": "code",
   "execution_count": 12,
   "metadata": {},
   "outputs": [
    {
     "name": "stdout",
     "output_type": "stream",
     "text": [
      "{'test': 0.7334510567969763, 'train': 0.8271676223487743}\n"
     ]
    }
   ],
   "source": [
    "import sklearn.tree\n",
    "from sklearn.tree import DecisionTreeRegressor\n",
    "\n",
    "print(modelo.setear_modelo(DecisionTreeRegressor,max_depth=5,max_leaf_nodes=30))\n",
    "# modelo.plotear_perf()\n",
    "tree = modelo.modelo"
   ]
  },
  {
   "cell_type": "code",
   "execution_count": 13,
   "metadata": {},
   "outputs": [
    {
     "name": "stdout",
     "output_type": "stream",
     "text": [
      "{'test': 0.08847796594663954, 'train': 0.3479703258874756}\n"
     ]
    }
   ],
   "source": [
    "from sklearn.neighbors import KNeighborsRegressor\n",
    "print(modelo.setear_modelo(KNeighborsRegressor,n_neighbors=10))\n",
    "# modelo.plotear_perf()\n",
    "knn = modelo.modelo"
   ]
  },
  {
   "cell_type": "code",
   "execution_count": 14,
   "metadata": {},
   "outputs": [
    {
     "name": "stdout",
     "output_type": "stream",
     "text": [
      "{'test': 0.7933246439805006, 'train': 0.8648182203629291}\n",
      "mean absolute error: {'train': array([1.78180598, 1.35683345]), 'test': array([2.19892996, 1.77774125])}\n"
     ]
    }
   ],
   "source": [
    "from sklearn.ensemble import RandomForestRegressor\n",
    "from sklearn.metrics import mean_absolute_error, max_error\n",
    "print(modelo.setear_modelo(RandomForestRegressor,max_depth=5,max_leaf_nodes=30,criterion=\"absolute_error\",n_jobs=8)) # max_depth=10\n",
    "print(f\"mean absolute error: {modelo.usar_metrica(mean_absolute_error,multioutput='raw_values')}\")\n",
    "# modelo.plotear_perf()\n",
    "forest = modelo.modelo\n",
    "# modelo.exportar_modelo()"
   ]
  },
  {
   "cell_type": "code",
   "execution_count": 15,
   "metadata": {},
   "outputs": [
    {
     "name": "stdout",
     "output_type": "stream",
     "text": [
      "{'test': 0.789913349824389, 'train': 0.8226970759262995}\n"
     ]
    }
   ],
   "source": [
    "from sklearn.linear_model import Lasso\n",
    "print(modelo.setear_modelo(Lasso))\n",
    "# modelo.plotear_perf()\n",
    "lasso = modelo.modelo"
   ]
  },
  {
   "cell_type": "code",
   "execution_count": 16,
   "metadata": {},
   "outputs": [
    {
     "name": "stdout",
     "output_type": "stream",
     "text": [
      "{'test': 0.7938080449775244, 'train': 0.8289699746588124}\n"
     ]
    }
   ],
   "source": [
    "from sklearn.linear_model import ElasticNet\n",
    "print(modelo.setear_modelo(ElasticNet))\n",
    "# modelo.plotear_perf()\n",
    "elastic_net = modelo.modelo"
   ]
  },
  {
   "cell_type": "code",
   "execution_count": 17,
   "metadata": {},
   "outputs": [
    {
     "name": "stdout",
     "output_type": "stream",
     "text": [
      "{'test': 0.7785221941924649, 'train': 0.8407585868005623}\n"
     ]
    }
   ],
   "source": [
    "from sklearn.linear_model import Ridge\n",
    "print(modelo.setear_modelo(Ridge))\n",
    "# modelo.plotear_perf()\n",
    "ridge = modelo.modelo"
   ]
  },
  {
   "attachments": {},
   "cell_type": "markdown",
   "metadata": {},
   "source": [
    "# modelos humedad"
   ]
  },
  {
   "cell_type": "code",
   "execution_count": 18,
   "metadata": {},
   "outputs": [
    {
     "data": {
      "text/plain": [
       "Index(['fecha', 'hora', 'temperatura', 'humedad', 'presion',\n",
       "       'direccion_viento', 'velocidad_viento', 'dia', 'mes', 'año',\n",
       "       'temperatura_prom_dia_sig', 'humedad_prom_dia_sig',\n",
       "       'presion_prom_dia_sig', 'direccion_viento_prom_dia_sig',\n",
       "       'velocidad_viento_prom_dia_sig', 'temperatura_max_dia_sig',\n",
       "       'humedad_max_dia_sig', 'presion_max_dia_sig',\n",
       "       'direccion_viento_max_dia_sig', 'velocidad_viento_max_dia_sig',\n",
       "       'index_min_dia_sig', 'temperatura_min_dia_sig', 'humedad_min_dia_sig',\n",
       "       'presion_min_dia_sig', 'direccion_viento_min_dia_sig',\n",
       "       'velocidad_viento_min_dia_sig'],\n",
       "      dtype='object')"
      ]
     },
     "execution_count": 18,
     "metadata": {},
     "output_type": "execute_result"
    }
   ],
   "source": [
    "predictor.columns"
   ]
  },
  {
   "cell_type": "code",
   "execution_count": 19,
   "metadata": {},
   "outputs": [],
   "source": [
    "modelo_hum = ModeloSKL()\n",
    "modelo_hum.splitear(a_predecir=\"humedad_prom_dia_sig\",dataset=predictor)"
   ]
  },
  {
   "cell_type": "code",
   "execution_count": 20,
   "metadata": {},
   "outputs": [
    {
     "name": "stdout",
     "output_type": "stream",
     "text": [
      "{'test': 0.46822504055362013, 'train': 0.9270719931836243}\n"
     ]
    },
    {
     "data": {
      "text/plain": [
       "{'train': 2.6795858049532524, 'test': 7.07631436382092}"
      ]
     },
     "execution_count": 20,
     "metadata": {},
     "output_type": "execute_result"
    }
   ],
   "source": [
    "print(modelo_hum.setear_modelo(RandomForestRegressor))\n",
    "# modelo_hum.plotear_perf()\n",
    "modelo_hum.usar_metrica(mean_absolute_error)"
   ]
  },
  {
   "cell_type": "code",
   "execution_count": 21,
   "metadata": {},
   "outputs": [
    {
     "name": "stdout",
     "output_type": "stream",
     "text": [
      "{'test': 0.19433545896576232, 'train': 0.4626266221089125}\n"
     ]
    }
   ],
   "source": [
    "print(modelo_hum.setear_modelo(KNeighborsRegressor))"
   ]
  },
  {
   "cell_type": "code",
   "execution_count": 22,
   "metadata": {},
   "outputs": [
    {
     "name": "stdout",
     "output_type": "stream",
     "text": [
      "{'test': 0.2574318464002532, 'train': 0.4646894643754138}\n"
     ]
    },
    {
     "data": {
      "text/plain": [
       "4"
      ]
     },
     "execution_count": 22,
     "metadata": {},
     "output_type": "execute_result"
    }
   ],
   "source": [
    "print(modelo_hum.setear_modelo(DecisionTreeRegressor,max_depth=4))\n",
    "# modelo_hum.plotear_perf()\n",
    "modelo_hum.modelo.get_depth()"
   ]
  },
  {
   "cell_type": "code",
   "execution_count": 23,
   "metadata": {},
   "outputs": [
    {
     "name": "stdout",
     "output_type": "stream",
     "text": [
      "{'test': 0.4023661998572645, 'train': 0.5081440238702712}\n"
     ]
    }
   ],
   "source": [
    "print(modelo_hum.setear_modelo(Lasso))\n",
    "# modelo_hum.plotear_perf()"
   ]
  },
  {
   "cell_type": "code",
   "execution_count": 24,
   "metadata": {},
   "outputs": [
    {
     "name": "stdout",
     "output_type": "stream",
     "text": [
      "{'test': 0.3894339200385116, 'train': 0.5130280802772222}\n"
     ]
    }
   ],
   "source": [
    "print(modelo_hum.setear_modelo(ElasticNet))\n"
   ]
  },
  {
   "cell_type": "code",
   "execution_count": 45,
   "metadata": {},
   "outputs": [
    {
     "ename": "ValueError",
     "evalue": "Data cardinality is ambiguous:\n  x sizes: 279552\n  y sizes: 1456\nMake sure all arrays contain the same number of samples.",
     "output_type": "error",
     "traceback": [
      "\u001b[0;31m---------------------------------------------------------------------------\u001b[0m",
      "\u001b[0;31mValueError\u001b[0m                                Traceback (most recent call last)",
      "Cell \u001b[0;32mIn[45], line 42\u001b[0m\n\u001b[1;32m     37\u001b[0m model\u001b[39m.\u001b[39madd(Dense(\u001b[39m1\u001b[39m, activation\u001b[39m=\u001b[39m\u001b[39m'\u001b[39m\u001b[39msigmoid\u001b[39m\u001b[39m'\u001b[39m,name\u001b[39m=\u001b[39m\u001b[39m\"\u001b[39m\u001b[39msalida\u001b[39m\u001b[39m\"\u001b[39m))\n\u001b[1;32m     41\u001b[0m model\u001b[39m.\u001b[39mcompile(loss\u001b[39m=\u001b[39m\u001b[39m'\u001b[39m\u001b[39mmse\u001b[39m\u001b[39m'\u001b[39m, optimizer\u001b[39m=\u001b[39m\u001b[39m'\u001b[39m\u001b[39madam\u001b[39m\u001b[39m'\u001b[39m,metrics\u001b[39m=\u001b[39m[\u001b[39m\"\u001b[39m\u001b[39mmae\u001b[39m\u001b[39m\"\u001b[39m])\n\u001b[0;32m---> 42\u001b[0m model\u001b[39m.\u001b[39;49mfit(x_train, y_train, epochs\u001b[39m=\u001b[39;49m\u001b[39m250\u001b[39;49m,validation_data\u001b[39m=\u001b[39;49m(x_test,y_test),validation_freq\u001b[39m=\u001b[39;49m\u001b[39m1\u001b[39;49m)\n\u001b[1;32m     43\u001b[0m mean_absolute_error(y_test,model\u001b[39m.\u001b[39mpredict(x_test))\n",
      "File \u001b[0;32m~/.local/lib/python3.10/site-packages/keras/utils/traceback_utils.py:70\u001b[0m, in \u001b[0;36mfilter_traceback.<locals>.error_handler\u001b[0;34m(*args, **kwargs)\u001b[0m\n\u001b[1;32m     67\u001b[0m     filtered_tb \u001b[39m=\u001b[39m _process_traceback_frames(e\u001b[39m.\u001b[39m__traceback__)\n\u001b[1;32m     68\u001b[0m     \u001b[39m# To get the full stack trace, call:\u001b[39;00m\n\u001b[1;32m     69\u001b[0m     \u001b[39m# `tf.debugging.disable_traceback_filtering()`\u001b[39;00m\n\u001b[0;32m---> 70\u001b[0m     \u001b[39mraise\u001b[39;00m e\u001b[39m.\u001b[39mwith_traceback(filtered_tb) \u001b[39mfrom\u001b[39;00m \u001b[39mNone\u001b[39m\n\u001b[1;32m     71\u001b[0m \u001b[39mfinally\u001b[39;00m:\n\u001b[1;32m     72\u001b[0m     \u001b[39mdel\u001b[39;00m filtered_tb\n",
      "File \u001b[0;32m~/.local/lib/python3.10/site-packages/keras/engine/data_adapter.py:1848\u001b[0m, in \u001b[0;36m_check_data_cardinality\u001b[0;34m(data)\u001b[0m\n\u001b[1;32m   1841\u001b[0m     msg \u001b[39m+\u001b[39m\u001b[39m=\u001b[39m \u001b[39m\"\u001b[39m\u001b[39m  \u001b[39m\u001b[39m{}\u001b[39;00m\u001b[39m sizes: \u001b[39m\u001b[39m{}\u001b[39;00m\u001b[39m\\n\u001b[39;00m\u001b[39m\"\u001b[39m\u001b[39m.\u001b[39mformat(\n\u001b[1;32m   1842\u001b[0m         label,\n\u001b[1;32m   1843\u001b[0m         \u001b[39m\"\u001b[39m\u001b[39m, \u001b[39m\u001b[39m\"\u001b[39m\u001b[39m.\u001b[39mjoin(\n\u001b[1;32m   1844\u001b[0m             \u001b[39mstr\u001b[39m(i\u001b[39m.\u001b[39mshape[\u001b[39m0\u001b[39m]) \u001b[39mfor\u001b[39;00m i \u001b[39min\u001b[39;00m tf\u001b[39m.\u001b[39mnest\u001b[39m.\u001b[39mflatten(single_data)\n\u001b[1;32m   1845\u001b[0m         ),\n\u001b[1;32m   1846\u001b[0m     )\n\u001b[1;32m   1847\u001b[0m msg \u001b[39m+\u001b[39m\u001b[39m=\u001b[39m \u001b[39m\"\u001b[39m\u001b[39mMake sure all arrays contain the same number of samples.\u001b[39m\u001b[39m\"\u001b[39m\n\u001b[0;32m-> 1848\u001b[0m \u001b[39mraise\u001b[39;00m \u001b[39mValueError\u001b[39;00m(msg)\n",
      "\u001b[0;31mValueError\u001b[0m: Data cardinality is ambiguous:\n  x sizes: 279552\n  y sizes: 1456\nMake sure all arrays contain the same number of samples."
     ]
    }
   ],
   "source": [
    "from tensorflow.keras.models import Sequential\n",
    "from tensorflow.keras.layers import Dense, Dropout, GaussianNoise, LSTM\n",
    "from sklearn.preprocessing import StandardScaler\n",
    "sc = StandardScaler()\n",
    "x_train = sc.fit_transform(np.asarray(modelo_hum.x_train))\n",
    "y_train = np.asarray(modelo_hum.y_train) / 100\n",
    "x_test = sc.fit_transform(np.asarray(modelo_hum.x_test))\n",
    "y_test = np.asarray(modelo_hum.y_test) / 100\n",
    "\n",
    "model = Sequential()\n",
    "\n",
    "model.add(GaussianNoise(.01))\n",
    "model.add(LSTM(250,return_sequences=True))\n",
    "\n",
    "model.add(LSTM(250,return_sequences=True))\n",
    "\n",
    "model.add(LSTM(250,return_sequences=True))\n",
    "\n",
    "# model.add(Dense(500, activation='relu'))\n",
    "model.add(Dropout(.10))\n",
    "# model.add(GaussianNoise(.01))\n",
    "\n",
    "# model.add(Dense(250, activation='relu'))\n",
    "model.add(Dropout(.10))\n",
    "# model.add(GaussianNoise(.01))\n",
    "\n",
    "model.add(Dense(125, activation='relu'))\n",
    "model.add(Dropout(.10))\n",
    "\n",
    "model.add(Dense(64, activation='relu'))\n",
    "model.add(Dropout(.05))\n",
    "\n",
    "model.add(Dense(32, activation='relu'))\n",
    "\n",
    "model.add(Dense(16, activation='relu'))\n",
    "\n",
    "model.add(Dense(1, activation='sigmoid',name=\"salida\"))\n",
    "\n",
    "\n",
    "\n",
    "model.compile(loss='mse', optimizer='adam',metrics=[\"mae\"])\n",
    "model.fit(x_train, y_train, epochs=250,validation_data=(x_test,y_test),validation_freq=1)\n",
    "mean_absolute_error(y_test,model.predict(x_test))"
   ]
  }
 ],
 "metadata": {
  "kernelspec": {
   "display_name": "Python 3",
   "language": "python",
   "name": "python3"
  },
  "language_info": {
   "codemirror_mode": {
    "name": "ipython",
    "version": 3
   },
   "file_extension": ".py",
   "mimetype": "text/x-python",
   "name": "python",
   "nbconvert_exporter": "python",
   "pygments_lexer": "ipython3",
   "version": "3.10.6"
  },
  "orig_nbformat": 4,
  "vscode": {
   "interpreter": {
    "hash": "916dbcbb3f70747c44a77c7bcd40155683ae19c65e1c03b4aa3499c5328201f1"
   }
  }
 },
 "nbformat": 4,
 "nbformat_minor": 2
}
