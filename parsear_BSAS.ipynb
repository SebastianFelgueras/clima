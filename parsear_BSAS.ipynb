{
 "cells": [
  {
   "cell_type": "code",
   "execution_count": 1,
   "metadata": {},
   "outputs": [],
   "source": [
    "import pandas as pd"
   ]
  },
  {
   "cell_type": "code",
   "execution_count": 5,
   "metadata": {},
   "outputs": [
    {
     "data": {
      "text/html": [
       "<div>\n",
       "<style scoped>\n",
       "    .dataframe tbody tr th:only-of-type {\n",
       "        vertical-align: middle;\n",
       "    }\n",
       "\n",
       "    .dataframe tbody tr th {\n",
       "        vertical-align: top;\n",
       "    }\n",
       "\n",
       "    .dataframe thead th {\n",
       "        text-align: right;\n",
       "    }\n",
       "</style>\n",
       "<table border=\"1\" class=\"dataframe\">\n",
       "  <thead>\n",
       "    <tr style=\"text-align: right;\">\n",
       "      <th></th>\n",
       "      <th>fecha</th>\n",
       "      <th>hora</th>\n",
       "      <th>temperatura</th>\n",
       "      <th>humedad</th>\n",
       "      <th>presion</th>\n",
       "      <th>direccion_viento</th>\n",
       "      <th>velocidad_viento</th>\n",
       "      <th>estacion</th>\n",
       "    </tr>\n",
       "  </thead>\n",
       "  <tbody>\n",
       "    <tr>\n",
       "      <th>0</th>\n",
       "      <td>03122020</td>\n",
       "      <td>0</td>\n",
       "      <td>19.4</td>\n",
       "      <td>92.0</td>\n",
       "      <td>1006.7</td>\n",
       "      <td>90.0</td>\n",
       "      <td>24.0</td>\n",
       "      <td>AEROPARQUE AERO</td>\n",
       "    </tr>\n",
       "    <tr>\n",
       "      <th>1</th>\n",
       "      <td>03122020</td>\n",
       "      <td>1</td>\n",
       "      <td>19.7</td>\n",
       "      <td>88.0</td>\n",
       "      <td>1007.6</td>\n",
       "      <td>180.0</td>\n",
       "      <td>7.0</td>\n",
       "      <td>AEROPARQUE AERO</td>\n",
       "    </tr>\n",
       "    <tr>\n",
       "      <th>2</th>\n",
       "      <td>03122020</td>\n",
       "      <td>2</td>\n",
       "      <td>19.1</td>\n",
       "      <td>93.0</td>\n",
       "      <td>1007.5</td>\n",
       "      <td>200.0</td>\n",
       "      <td>7.0</td>\n",
       "      <td>AEROPARQUE AERO</td>\n",
       "    </tr>\n",
       "    <tr>\n",
       "      <th>3</th>\n",
       "      <td>03122020</td>\n",
       "      <td>3</td>\n",
       "      <td>18.4</td>\n",
       "      <td>92.0</td>\n",
       "      <td>1007.5</td>\n",
       "      <td>200.0</td>\n",
       "      <td>9.0</td>\n",
       "      <td>AEROPARQUE AERO</td>\n",
       "    </tr>\n",
       "    <tr>\n",
       "      <th>4</th>\n",
       "      <td>03122020</td>\n",
       "      <td>4</td>\n",
       "      <td>18.0</td>\n",
       "      <td>92.0</td>\n",
       "      <td>1007.4</td>\n",
       "      <td>180.0</td>\n",
       "      <td>9.0</td>\n",
       "      <td>AEROPARQUE AERO</td>\n",
       "    </tr>\n",
       "  </tbody>\n",
       "</table>\n",
       "</div>"
      ],
      "text/plain": [
       "      fecha  hora  temperatura  humedad  presion  direccion_viento  \\\n",
       "0  03122020     0         19.4     92.0   1006.7              90.0   \n",
       "1  03122020     1         19.7     88.0   1007.6             180.0   \n",
       "2  03122020     2         19.1     93.0   1007.5             200.0   \n",
       "3  03122020     3         18.4     92.0   1007.5             200.0   \n",
       "4  03122020     4         18.0     92.0   1007.4             180.0   \n",
       "\n",
       "   velocidad_viento         estacion  \n",
       "0              24.0  AEROPARQUE AERO  \n",
       "1               7.0  AEROPARQUE AERO  \n",
       "2               7.0  AEROPARQUE AERO  \n",
       "3               9.0  AEROPARQUE AERO  \n",
       "4               9.0  AEROPARQUE AERO  "
      ]
     },
     "execution_count": 5,
     "metadata": {},
     "output_type": "execute_result"
    }
   ],
   "source": [
    "tipos = {\"fecha\": str, \"hora\": int, \"temperatura\": float, \"humedad\": float, \"presion\": float, \"direccion_viento\": float, \"velocidad_viento\": float, \"estacion\": str}\n",
    "data = pd.read_csv(\"clima_arg.csv\", dtype=tipos)\n",
    "\n",
    "data.head()\n"
   ]
  },
  {
   "cell_type": "code",
   "execution_count": 6,
   "metadata": {},
   "outputs": [
    {
     "data": {
      "text/html": [
       "<div>\n",
       "<style scoped>\n",
       "    .dataframe tbody tr th:only-of-type {\n",
       "        vertical-align: middle;\n",
       "    }\n",
       "\n",
       "    .dataframe tbody tr th {\n",
       "        vertical-align: top;\n",
       "    }\n",
       "\n",
       "    .dataframe thead th {\n",
       "        text-align: right;\n",
       "    }\n",
       "</style>\n",
       "<table border=\"1\" class=\"dataframe\">\n",
       "  <thead>\n",
       "    <tr style=\"text-align: right;\">\n",
       "      <th></th>\n",
       "      <th>fecha</th>\n",
       "      <th>hora</th>\n",
       "      <th>temperatura</th>\n",
       "      <th>humedad</th>\n",
       "      <th>presion</th>\n",
       "      <th>direccion_viento</th>\n",
       "      <th>velocidad_viento</th>\n",
       "      <th>estacion</th>\n",
       "    </tr>\n",
       "  </thead>\n",
       "  <tbody>\n",
       "    <tr>\n",
       "      <th>0</th>\n",
       "      <td>03122020</td>\n",
       "      <td>0</td>\n",
       "      <td>19.4</td>\n",
       "      <td>92.0</td>\n",
       "      <td>1006.7</td>\n",
       "      <td>90.0</td>\n",
       "      <td>24.0</td>\n",
       "      <td>AEROPARQUE AERO</td>\n",
       "    </tr>\n",
       "    <tr>\n",
       "      <th>1</th>\n",
       "      <td>03122020</td>\n",
       "      <td>1</td>\n",
       "      <td>19.7</td>\n",
       "      <td>88.0</td>\n",
       "      <td>1007.6</td>\n",
       "      <td>180.0</td>\n",
       "      <td>7.0</td>\n",
       "      <td>AEROPARQUE AERO</td>\n",
       "    </tr>\n",
       "    <tr>\n",
       "      <th>2</th>\n",
       "      <td>03122020</td>\n",
       "      <td>2</td>\n",
       "      <td>19.1</td>\n",
       "      <td>93.0</td>\n",
       "      <td>1007.5</td>\n",
       "      <td>200.0</td>\n",
       "      <td>7.0</td>\n",
       "      <td>AEROPARQUE AERO</td>\n",
       "    </tr>\n",
       "    <tr>\n",
       "      <th>3</th>\n",
       "      <td>03122020</td>\n",
       "      <td>3</td>\n",
       "      <td>18.4</td>\n",
       "      <td>92.0</td>\n",
       "      <td>1007.5</td>\n",
       "      <td>200.0</td>\n",
       "      <td>9.0</td>\n",
       "      <td>AEROPARQUE AERO</td>\n",
       "    </tr>\n",
       "    <tr>\n",
       "      <th>4</th>\n",
       "      <td>03122020</td>\n",
       "      <td>4</td>\n",
       "      <td>18.0</td>\n",
       "      <td>92.0</td>\n",
       "      <td>1007.4</td>\n",
       "      <td>180.0</td>\n",
       "      <td>9.0</td>\n",
       "      <td>AEROPARQUE AERO</td>\n",
       "    </tr>\n",
       "  </tbody>\n",
       "</table>\n",
       "</div>"
      ],
      "text/plain": [
       "      fecha  hora  temperatura  humedad  presion  direccion_viento  \\\n",
       "0  03122020     0         19.4     92.0   1006.7              90.0   \n",
       "1  03122020     1         19.7     88.0   1007.6             180.0   \n",
       "2  03122020     2         19.1     93.0   1007.5             200.0   \n",
       "3  03122020     3         18.4     92.0   1007.5             200.0   \n",
       "4  03122020     4         18.0     92.0   1007.4             180.0   \n",
       "\n",
       "   velocidad_viento         estacion  \n",
       "0              24.0  AEROPARQUE AERO  \n",
       "1               7.0  AEROPARQUE AERO  \n",
       "2               7.0  AEROPARQUE AERO  \n",
       "3               9.0  AEROPARQUE AERO  \n",
       "4               9.0  AEROPARQUE AERO  "
      ]
     },
     "execution_count": 6,
     "metadata": {},
     "output_type": "execute_result"
    }
   ],
   "source": [
    "data2 = data[(data[\"estacion\"] == 'BUENOS AIRES') | (data[\"estacion\"] == 'BUENOS AIRES OBSERVATORIO') | (data[\"estacion\"] == \"AEROPARQUE AERO\")]\n",
    "data2.head()"
   ]
  },
  {
   "cell_type": "code",
   "execution_count": 7,
   "metadata": {},
   "outputs": [
    {
     "data": {
      "text/html": [
       "<div>\n",
       "<style scoped>\n",
       "    .dataframe tbody tr th:only-of-type {\n",
       "        vertical-align: middle;\n",
       "    }\n",
       "\n",
       "    .dataframe tbody tr th {\n",
       "        vertical-align: top;\n",
       "    }\n",
       "\n",
       "    .dataframe thead th {\n",
       "        text-align: right;\n",
       "    }\n",
       "</style>\n",
       "<table border=\"1\" class=\"dataframe\">\n",
       "  <thead>\n",
       "    <tr style=\"text-align: right;\">\n",
       "      <th></th>\n",
       "      <th>fecha</th>\n",
       "      <th>hora</th>\n",
       "      <th>temperatura</th>\n",
       "      <th>humedad</th>\n",
       "      <th>presion</th>\n",
       "      <th>direccion_viento</th>\n",
       "      <th>velocidad_viento</th>\n",
       "      <th>estacion</th>\n",
       "    </tr>\n",
       "  </thead>\n",
       "  <tbody>\n",
       "    <tr>\n",
       "      <th>0</th>\n",
       "      <td>03122020</td>\n",
       "      <td>0</td>\n",
       "      <td>19.4</td>\n",
       "      <td>92.0</td>\n",
       "      <td>1006.7</td>\n",
       "      <td>90.0</td>\n",
       "      <td>24.0</td>\n",
       "      <td>AEROPARQUE AERO</td>\n",
       "    </tr>\n",
       "    <tr>\n",
       "      <th>1</th>\n",
       "      <td>03122020</td>\n",
       "      <td>1</td>\n",
       "      <td>19.7</td>\n",
       "      <td>88.0</td>\n",
       "      <td>1007.6</td>\n",
       "      <td>180.0</td>\n",
       "      <td>7.0</td>\n",
       "      <td>AEROPARQUE AERO</td>\n",
       "    </tr>\n",
       "    <tr>\n",
       "      <th>2</th>\n",
       "      <td>03122020</td>\n",
       "      <td>2</td>\n",
       "      <td>19.1</td>\n",
       "      <td>93.0</td>\n",
       "      <td>1007.5</td>\n",
       "      <td>200.0</td>\n",
       "      <td>7.0</td>\n",
       "      <td>AEROPARQUE AERO</td>\n",
       "    </tr>\n",
       "    <tr>\n",
       "      <th>3</th>\n",
       "      <td>03122020</td>\n",
       "      <td>3</td>\n",
       "      <td>18.4</td>\n",
       "      <td>92.0</td>\n",
       "      <td>1007.5</td>\n",
       "      <td>200.0</td>\n",
       "      <td>9.0</td>\n",
       "      <td>AEROPARQUE AERO</td>\n",
       "    </tr>\n",
       "    <tr>\n",
       "      <th>4</th>\n",
       "      <td>03122020</td>\n",
       "      <td>4</td>\n",
       "      <td>18.0</td>\n",
       "      <td>92.0</td>\n",
       "      <td>1007.4</td>\n",
       "      <td>180.0</td>\n",
       "      <td>9.0</td>\n",
       "      <td>AEROPARQUE AERO</td>\n",
       "    </tr>\n",
       "  </tbody>\n",
       "</table>\n",
       "</div>"
      ],
      "text/plain": [
       "      fecha  hora  temperatura  humedad  presion  direccion_viento  \\\n",
       "0  03122020     0         19.4     92.0   1006.7              90.0   \n",
       "1  03122020     1         19.7     88.0   1007.6             180.0   \n",
       "2  03122020     2         19.1     93.0   1007.5             200.0   \n",
       "3  03122020     3         18.4     92.0   1007.5             200.0   \n",
       "4  03122020     4         18.0     92.0   1007.4             180.0   \n",
       "\n",
       "   velocidad_viento         estacion  \n",
       "0              24.0  AEROPARQUE AERO  \n",
       "1               7.0  AEROPARQUE AERO  \n",
       "2               7.0  AEROPARQUE AERO  \n",
       "3               9.0  AEROPARQUE AERO  \n",
       "4               9.0  AEROPARQUE AERO  "
      ]
     },
     "execution_count": 7,
     "metadata": {},
     "output_type": "execute_result"
    }
   ],
   "source": [
    "data2 = data2.copy()\n",
    "data2.reset_index(inplace=True)\n",
    "del data2[\"index\"]\n",
    "data2.head()"
   ]
  },
  {
   "cell_type": "code",
   "execution_count": 8,
   "metadata": {},
   "outputs": [],
   "source": [
    "data2.to_csv(\"clima_bsas.csv\")"
   ]
  },
  {
   "cell_type": "code",
   "execution_count": 7,
   "metadata": {},
   "outputs": [
    {
     "data": {
      "text/plain": [
       "array([24.,  7.,  9.,  4.,  6., 13., 11., 15.,  2., 26., 17., 19., 20.,\n",
       "       28., 22.,  0., 31., 35., 30., 33., 37., 41., 39., 43., 44., 48.,\n",
       "       nan, 46., 59., 54., 56., 52., 50., 57.])"
      ]
     },
     "execution_count": 7,
     "metadata": {},
     "output_type": "execute_result"
    }
   ],
   "source": [
    "data2[\"velocidad_viento\"].unique()"
   ]
  },
  {
   "cell_type": "code",
   "execution_count": 9,
   "metadata": {},
   "outputs": [
    {
     "data": {
      "text/plain": [
       "(87328, 8)"
      ]
     },
     "execution_count": 9,
     "metadata": {},
     "output_type": "execute_result"
    }
   ],
   "source": [
    "data2.shape"
   ]
  },
  {
   "cell_type": "code",
   "execution_count": null,
   "metadata": {},
   "outputs": [],
   "source": []
  }
 ],
 "metadata": {
  "kernelspec": {
   "display_name": "Python 3",
   "language": "python",
   "name": "python3"
  },
  "language_info": {
   "codemirror_mode": {
    "name": "ipython",
    "version": 3
   },
   "file_extension": ".py",
   "mimetype": "text/x-python",
   "name": "python",
   "nbconvert_exporter": "python",
   "pygments_lexer": "ipython3",
   "version": "3.10.6"
  },
  "orig_nbformat": 4,
  "vscode": {
   "interpreter": {
    "hash": "916dbcbb3f70747c44a77c7bcd40155683ae19c65e1c03b4aa3499c5328201f1"
   }
  }
 },
 "nbformat": 4,
 "nbformat_minor": 2
}
